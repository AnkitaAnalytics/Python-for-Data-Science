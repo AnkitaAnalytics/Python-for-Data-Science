{
  "nbformat": 4,
  "nbformat_minor": 0,
  "metadata": {
    "colab": {
      "provenance": [],
      "authorship_tag": "ABX9TyOJ40TeZ+eLLsRdor7YE62H",
      "include_colab_link": true
    },
    "kernelspec": {
      "name": "python3",
      "display_name": "Python 3"
    },
    "language_info": {
      "name": "python"
    }
  },
  "cells": [
    {
      "cell_type": "markdown",
      "metadata": {
        "id": "view-in-github",
        "colab_type": "text"
      },
      "source": [
        "<a href=\"https://colab.research.google.com/github/AnkitaAnalytics/Python-for-Data-Science/blob/main/Introduction_to_Series.ipynb\" target=\"_parent\"><img src=\"https://colab.research.google.com/assets/colab-badge.svg\" alt=\"Open In Colab\"/></a>"
      ]
    },
    {
      "cell_type": "markdown",
      "source": [
        "### Creating a series from list"
      ],
      "metadata": {
        "id": "AfYyUerDSh-u"
      }
    },
    {
      "cell_type": "code",
      "source": [
        "production_data=[1000, 1200, 1100, 950, 1050, 1430, 1760] #data list\n",
        "production_day = ['Day1', 'Day2', 'Day3', 'Day4', 'Day5', 'Day6', 'Day7'] #label\n",
        "\n",
        "#creating a series\n",
        "daily_production = pd.Series(data=production_data,index= production_day ,name=\"Production_Details\")\n",
        "\n",
        "print(daily_production)"
      ],
      "metadata": {
        "id": "b2DDq_HHiBgF",
        "colab": {
          "base_uri": "https://localhost:8080/"
        },
        "outputId": "e2de820e-ebc8-44cf-b7a4-6dfeb18c7638"
      },
      "execution_count": null,
      "outputs": [
        {
          "output_type": "stream",
          "name": "stdout",
          "text": [
            "Day1    1000\n",
            "Day2    1200\n",
            "Day3    1100\n",
            "Day4     950\n",
            "Day5    1050\n",
            "Day6    1430\n",
            "Day7    1760\n",
            "Name: Production_Details, dtype: int64\n"
          ]
        }
      ]
    },
    {
      "cell_type": "code",
      "source": [
        "# Getting the name of a series.\n",
        "daily_production.name\n"
      ],
      "metadata": {
        "colab": {
          "base_uri": "https://localhost:8080/",
          "height": 35
        },
        "id": "F4E1kJYXTKpn",
        "outputId": "51856811-f3cc-480e-95b6-4a1e6d521619"
      },
      "execution_count": null,
      "outputs": [
        {
          "output_type": "execute_result",
          "data": {
            "text/plain": [
              "'Production_Details'"
            ],
            "application/vnd.google.colaboratory.intrinsic+json": {
              "type": "string"
            }
          },
          "metadata": {},
          "execution_count": 9
        }
      ]
    },
    {
      "cell_type": "code",
      "source": [
        "# Getting index\n",
        "daily_production.index"
      ],
      "metadata": {
        "colab": {
          "base_uri": "https://localhost:8080/"
        },
        "id": "kWu5c5DRT6ud",
        "outputId": "1550079b-898e-49bb-e5ef-edd1154d086e"
      },
      "execution_count": null,
      "outputs": [
        {
          "output_type": "execute_result",
          "data": {
            "text/plain": [
              "Index(['Day1', 'Day2', 'Day3', 'Day4', 'Day5', 'Day6', 'Day7'], dtype='object')"
            ]
          },
          "metadata": {},
          "execution_count": 10
        }
      ]
    },
    {
      "cell_type": "code",
      "source": [
        "# Getting values\n",
        "daily_production.values\n",
        "\n",
        "# the data are stored in a NumPy array.\n",
        "#This is because Pandas is built on top of NumPy, and it uses NumPy arrays as the underlying data structure for its Series."
      ],
      "metadata": {
        "colab": {
          "base_uri": "https://localhost:8080/"
        },
        "id": "4Izhj92NUFMS",
        "outputId": "6ebd3b6a-226d-4a23-cb10-1815d4df0788"
      },
      "execution_count": null,
      "outputs": [
        {
          "output_type": "execute_result",
          "data": {
            "text/plain": [
              "array([1000, 1200, 1100,  950, 1050, 1430, 1760])"
            ]
          },
          "metadata": {},
          "execution_count": 12
        }
      ]
    },
    {
      "cell_type": "code",
      "source": [
        "# Getting the data types of values\n",
        "daily_production.dtype"
      ],
      "metadata": {
        "id": "ZmntILm2UILp",
        "colab": {
          "base_uri": "https://localhost:8080/"
        },
        "outputId": "ef7f9c2d-9987-470f-b176-92e7728483c4"
      },
      "execution_count": 13,
      "outputs": [
        {
          "output_type": "execute_result",
          "data": {
            "text/plain": [
              "dtype('int64')"
            ]
          },
          "metadata": {},
          "execution_count": 13
        }
      ]
    },
    {
      "cell_type": "code",
      "source": [
        "# Getting the shape of a series\n",
        "\n",
        "daily_production.shape"
      ],
      "metadata": {
        "colab": {
          "base_uri": "https://localhost:8080/"
        },
        "id": "lnI6GhEiV1UG",
        "outputId": "4da03d30-0799-4584-9252-1985395ba0e5"
      },
      "execution_count": 14,
      "outputs": [
        {
          "output_type": "execute_result",
          "data": {
            "text/plain": [
              "(7,)"
            ]
          },
          "metadata": {},
          "execution_count": 14
        }
      ]
    },
    {
      "cell_type": "code",
      "source": [
        "# Getting the dimension of a series\n",
        "\n",
        "daily_production.ndim"
      ],
      "metadata": {
        "colab": {
          "base_uri": "https://localhost:8080/"
        },
        "id": "AXvPO8vAWCZO",
        "outputId": "de9f3ac7-8e74-4fda-b0da-f5a683af17dc"
      },
      "execution_count": 15,
      "outputs": [
        {
          "output_type": "execute_result",
          "data": {
            "text/plain": [
              "1"
            ]
          },
          "metadata": {},
          "execution_count": 15
        }
      ]
    },
    {
      "cell_type": "code",
      "source": [
        "# Getting the length of a series\n",
        "\n",
        "len(daily_production)"
      ],
      "metadata": {
        "colab": {
          "base_uri": "https://localhost:8080/"
        },
        "id": "_jm4Hz6cWTTu",
        "outputId": "0a58e074-c9b4-4a07-e5e7-87bd51873619"
      },
      "execution_count": 16,
      "outputs": [
        {
          "output_type": "execute_result",
          "data": {
            "text/plain": [
              "7"
            ]
          },
          "metadata": {},
          "execution_count": 16
        }
      ]
    }
  ]
}